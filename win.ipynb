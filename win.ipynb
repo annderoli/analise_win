{
 "cells": [
  {
   "cell_type": "code",
   "execution_count": 110,
   "metadata": {},
   "outputs": [],
   "source": [
    "import pandas as pd\n",
    "import numpy as np\n",
    "import warnings as wr"
   ]
  },
  {
   "cell_type": "markdown",
   "metadata": {},
   "source": [
    "DADOS DO CSV E RENOMEANDO COLUNAS"
   ]
  },
  {
   "cell_type": "code",
   "execution_count": null,
   "metadata": {},
   "outputs": [],
   "source": [
    "from mysqlx import Column\n",
    "\n",
    "df = pd.read_csv('../win.csv')\n",
    "\n",
    "df = df.iloc[:, :-2]\n",
    "\n",
    "# NOMEAND COLUNAS\n",
    "df.columns = ['data', 'abertura', 'maxima', 'minima', 'fechamento']\n",
    "\n",
    "df"
   ]
  },
  {
   "cell_type": "markdown",
   "metadata": {},
   "source": [
    "CRIANDO COLUNA MAX E MIN ANTERIOR"
   ]
  },
  {
   "cell_type": "code",
   "execution_count": null,
   "metadata": {},
   "outputs": [],
   "source": [
    "\n",
    "df['max_ant'] = df['maxima'].shift(1).astype('Int64')\n",
    "df['min_ant'] = df['minima'].shift(1).astype('Int64')\n",
    "\n",
    "df = df.dropna(axis = 0)\n",
    "\n",
    "df[['data', 'maxima', 'max_ant', 'minima', 'min_ant']]"
   ]
  },
  {
   "cell_type": "markdown",
   "metadata": {},
   "source": []
  }
 ],
 "metadata": {
  "kernelspec": {
   "display_name": "Python 3.10.8 ('win': venv)",
   "language": "python",
   "name": "python3"
  },
  "language_info": {
   "codemirror_mode": {
    "name": "ipython",
    "version": 3
   },
   "file_extension": ".py",
   "mimetype": "text/x-python",
   "name": "python",
   "nbconvert_exporter": "python",
   "pygments_lexer": "ipython3",
   "version": "3.10.8"
  },
  "orig_nbformat": 4,
  "vscode": {
   "interpreter": {
    "hash": "836a08c7dbcb7800688321a55f92e085d51f4b5e6863ac01be49a519a505fdc3"
   }
  }
 },
 "nbformat": 4,
 "nbformat_minor": 2
}
